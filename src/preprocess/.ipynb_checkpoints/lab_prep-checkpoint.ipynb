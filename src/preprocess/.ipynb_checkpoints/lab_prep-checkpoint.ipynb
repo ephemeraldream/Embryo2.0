{
 "cells": [
  {
   "cell_type": "code",
   "execution_count": null,
   "metadata": {
    "collapsed": true,
    "pycharm": {
     "name": "#%%\n",
     "is_executing": true
    }
   },
   "outputs": [],
   "source": [
    "import pandas\n",
    "import os\n",
    "import json\n",
    "from typing import Any, Union, List\n",
    "from src.constants import PROJECT_ROOT"
   ]
  },
  {
   "cell_type": "code",
   "execution_count": null,
   "outputs": [],
   "source": [
    "def get_from_choice(choices: List) -> int:\n",
    "    if not choices:\n",
    "        cls_to_add = 0\n",
    "    elif 'E' in choices and 'B' not in choices:\n",
    "        cls_to_add = 1\n",
    "    elif 'E' in choices and 'B' in choices:\n",
    "        cls_to_add = 2\n",
    "    else:\n",
    "        cls_to_add = 3\n",
    "    return cls_to_add"
   ],
   "metadata": {
    "collapsed": false,
    "pycharm": {
     "name": "#%%\n",
     "is_executing": true
    }
   }
  }
 ],
 "metadata": {
  "kernelspec": {
   "display_name": "Python 3",
   "language": "python",
   "name": "python3"
  },
  "language_info": {
   "codemirror_mode": {
    "name": "ipython",
    "version": 2
   },
   "file_extension": ".py",
   "mimetype": "text/x-python",
   "name": "python",
   "nbconvert_exporter": "python",
   "pygments_lexer": "ipython2",
   "version": "2.7.6"
  }
 },
 "nbformat": 4,
 "nbformat_minor": 0
}